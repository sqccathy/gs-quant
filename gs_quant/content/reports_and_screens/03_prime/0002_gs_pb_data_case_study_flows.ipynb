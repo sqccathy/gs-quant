{
 "cells": [
  {
   "cell_type": "markdown",
   "id": "e5c22c5b",
   "metadata": {},
   "source": [
    "# Short Covering Episodes"
   ]
  },
  {
   "cell_type": "markdown",
   "id": "76a78ef7",
   "metadata": {},
   "source": [
    "What was the strongest episode of short covering in our data?\n",
    "To answer this question we can load the full dataset on hedge fund positioning (PBFA)."
   ]
  },
  {
   "cell_type": "code",
   "execution_count": null,
   "id": "085ef504",
   "metadata": {
    "ExecuteTime": {
     "end_time": "2023-06-28T11:40:55.678837Z",
     "start_time": "2023-06-28T11:40:51.175685Z"
    }
   },
   "outputs": [],
   "source": [
    "# Import libraries\n",
    "import datetime\n",
    "from gs_quant.data import Dataset\n",
    "from gs_quant.session import GsSession, Environment\n",
    "import matplotlib.pyplot as plt"
   ]
  },
  {
   "cell_type": "code",
   "execution_count": null,
   "id": "d5ecb4de",
   "metadata": {
    "ExecuteTime": {
     "end_time": "2023-06-28T11:40:55.694836Z",
     "start_time": "2023-06-28T11:40:55.681841Z"
    }
   },
   "outputs": [],
   "source": [
    "# Graphical formatting\n",
    "import matplotlib.dates as mdates\n",
    "import matplotlib.ticker as mtick\n",
    "from matplotlib.patches import Ellipse"
   ]
  },
  {
   "cell_type": "code",
   "execution_count": null,
   "id": "c0df50d2",
   "metadata": {
    "ExecuteTime": {
     "end_time": "2023-06-28T11:40:56.066851Z",
     "start_time": "2023-06-28T11:40:55.697839Z"
    }
   },
   "outputs": [],
   "source": [
    "# Authentication\n",
    "client_id = # <insert client id here>\n",
    "client_secret = # <insert client secret here>\n",
    "GsSession.use(Environment.PROD, client_id, client_secret, ('read_product_data',))"
   ]
  },
  {
   "cell_type": "code",
   "execution_count": null,
   "id": "8147ac4a",
   "metadata": {
    "ExecuteTime": {
     "end_time": "2023-06-28T11:41:04.973171Z",
     "start_time": "2023-06-28T11:40:56.069853Z"
    }
   },
   "outputs": [],
   "source": [
    "# Fetch positioning data from 2016\n",
    "ds = Dataset('PBFA')\n",
    "data = ds.get_data(datetime.date(2016, 9, 16))\n",
    "data = data.reset_index()\n",
    "data.date = data.date.apply(lambda x: x.date())"
   ]
  },
  {
   "cell_type": "markdown",
   "id": "0466390b",
   "metadata": {},
   "source": [
    "We then create a rolling one-month average of the short flow indicator (column ‘shortLevel’) and plot its evolution over time, highlighting the all-time high."
   ]
  },
  {
   "cell_type": "code",
   "execution_count": null,
   "id": "f940ed09",
   "metadata": {
    "ExecuteTime": {
     "end_time": "2023-06-28T11:41:07.969281Z",
     "start_time": "2023-06-28T11:41:04.975173Z"
    }
   },
   "outputs": [],
   "source": [
    "# Plot moving average of short flows\n",
    "long_short_flows = data.loc[(data.clientStrategy==\"All\") & (data.region==\"Global\") & \\\n",
    "                           (data.sectorGICS1==\"All\"),['date','longLevel','shortLevel']]\n",
    "long_short_flows = long_short_flows.set_index('date')\n",
    "long_short_flows_roll = long_short_flows.rolling(21).mean()\n",
    "\n",
    "fig, ax = plt.subplots(figsize=(10, 6))\n",
    "ax.bar(long_short_flows_roll.index, long_short_flows_roll.shortLevel,color='black',width=4)\n",
    "ax.axhline(y=0,linestyle='-', color='black')\n",
    "ax.axhline(y=long_short_flows_roll.shortLevel.max(),linestyle='--',color='blue')\n",
    "ax.set_ylabel('Z-score')\n",
    "ax.set_title('Average 21-day Short Flows')\n",
    "ax.add_patch(Ellipse((long_short_flows_roll.shortLevel.idxmax(),long_short_flows_roll.shortLevel.max()),\\\n",
    "                    height=0.5,width=100,color='aquamarine',zorder=0))"
   ]
  },
  {
   "cell_type": "markdown",
   "id": "cbe80988",
   "metadata": {},
   "source": [
    "Peaks in the series represent periods of intense short covering, including the sharp portfolio rotation of November 2018, the short squeeze of January 2021 and a further peak in November 2022."
   ]
  },
  {
   "cell_type": "markdown",
   "id": "74eb5036",
   "metadata": {},
   "source": [
    "By calling long_short_flows_roll.shortLevel.idxmax() we can find out when the highest peak occurred."
   ]
  },
  {
   "cell_type": "code",
   "execution_count": null,
   "id": "0d1fcae5",
   "metadata": {
    "ExecuteTime": {
     "end_time": "2023-06-28T11:41:07.984281Z",
     "start_time": "2023-06-28T11:41:07.972284Z"
    }
   },
   "outputs": [],
   "source": [
    "# When did the peak occur?\n",
    "long_short_flows_roll.shortLevel.idxmax()"
   ]
  },
  {
   "cell_type": "markdown",
   "id": "4836c17d",
   "metadata": {},
   "source": [
    "Disclaimers:\n",
    "Indicative Terms/Pricing Levels: This material may contain indicative terms only, including but not limited to pricing levels. There is no representation that any transaction can or could have been effected at such terms or prices. Proposed terms and conditions are for discussion purposes only. Finalized terms and conditions are subject to further discussion and negotiation.\n",
    "www.goldmansachs.com/disclaimer/sales-and-trading-invest-rec-disclosures.html If you are not accessing this material via Marquee ContentStream, a list of the author's investment recommendations disseminated during the preceding 12 months and the proportion of the author's recommendations that are 'buy', 'hold', 'sell' or other over the previous 12 months is available by logging into Marquee ContentStream using the link below. Alternatively, if you do not have access to Marquee ContentStream, please contact your usual GS representative who will be able to provide this information to you.\n",
    "Please refer to https://marquee.gs.com/studio/ for price information of corporate equity securities.\n",
    "Notice to Australian Investors: When this document is disseminated in Australia by Goldman Sachs & Co. LLC (\"GSCO\"), Goldman Sachs International (\"GSI\"), Goldman Sachs Bank Europe SE (\"GSBE\"), Goldman Sachs (Asia) L.L.C. (\"GSALLC\"), or Goldman Sachs (Singapore) Pte (\"GSSP\") (collectively the \"GS entities\"), this document, and any access to it, is intended only for a person that has first satisfied the GS entities that:\n",
    "• the person is a Sophisticated or Professional Investor for the purposes of section 708 of the Corporations Act of Australia; and\n",
    "• the person is a wholesale client for the purpose of section 761G of the Corporations Act of Australia.\n",
    "To the extent that the GS entities are providing a financial service in Australia, the GS entities are each exempt from the requirement to hold an Australian financial services licence for the financial services they provide in Australia. Each of the GS entities are regulated by a foreign regulator under foreign laws which differ from Australian laws, specifically:\n",
    "• GSCO is regulated by the US Securities and Exchange Commission under US laws;\n",
    "• GSI is authorised by the Prudential Regulation Authority and regulated by the Financial Conduct Authority and the Prudential Regulation Authority, under UK laws;\n",
    "• GSBE is subject to direct prudential supervision by the European Central Bank and in other respects is supervised by the German Federal Financial Supervisory Authority (Bundesanstalt für Finanzdienstleistungsaufischt, BaFin) and Deutsche Bundesbank;\n",
    "• GSALLC is regulated by the Hong Kong Securities and Futures Commission under Hong Kong laws; and\n",
    "• GSSP is regulated by the Monetary Authority of Singapore under Singapore laws.\n",
    "Notice to Brazilian Investors\n",
    "Marquee is not meant for the general public in Brazil. The services or products provided by or through Marquee, at any time, may not be offered or sold to the general public in Brazil. You have received a password granting access to Marquee exclusively due to your existing relationship with a GS business located in Brazil. The selection and engagement with any of the offered services or products through Marquee, at any time, will be carried out directly by you. Before acting to implement any chosen service or products, provided by or through Marquee you should consider, at your sole discretion, whether it is suitable for your particular circumstances and, if necessary, seek professional advice. Any steps necessary in order to implement the chosen service or product, including but not limited to remittance of funds, shall be carried out at your discretion. Accordingly, such services and products have not been and will not be publicly issued, placed, distributed, offered or negotiated in the Brazilian capital markets and, as a result, they have not been and will not be registered with the Brazilian Securities and Exchange Commission (Comissão de Valores Mobiliários), nor have they been submitted to the foregoing agency for approval. Documents relating to such services or products, as well as the information contained therein, may not be supplied to the general public in Brazil, as the offering of such services or products is not a public offering in Brazil, nor used in connection with any offer for subscription or sale of securities to the general public in Brazil.\n",
    "The offer of any securities mentioned in this message may not be made to the general public in Brazil. Accordingly, any such securities have not been nor will they be registered with the Brazilian Securities and Exchange Commission (Comissão de Valores Mobiliários) nor has any offer been submitted to the foregoing agency for approval. Documents relating to the offer, as well as the information contained therein, may not be supplied to the public in Brazil, as the offer is not a public offering of securities in Brazil. These terms will apply on every access to Marquee.\n",
    "Ouvidoria Goldman Sachs Brasil: 0800 727 5764 e/ou ouvidoriagoldmansachs@gs.com\n",
    "Horário de funcionamento: segunda-feira à sexta-feira (exceto feriados), das 9hs às 18hs.\n",
    "Ombudsman Goldman Sachs Brazil: 0800 727 5764 and / or ouvidoriagoldmansachs@gs.com\n",
    "Available Weekdays (except holidays), from 9 am to 6 pm.\n",
    "Note to Investors in Israel: GS is not licensed to provide investment advice or investment management services under Israeli law.\n",
    "Notice to Investors in Japan\n",
    "Marquee is made available in Japan by Goldman Sachs Japan Co., Ltd.\n",
    "本書は情報の提供を目的としております。また、売却・購入が違法となるような法域での有価証券その他の売却若しくは購入を勧めるものでもありません。ゴールドマン・サックスは本書内の取引又はストラクチャーの勧誘を行うものではございません。これらの取引又はストラクチャーは、社内及び法規制等の承認等次第で実際にはご提供できない場合がございます。\n",
    "<適格機関投資家限定　転売制限>\n",
    "ゴールドマン・サックス証券株式会社が適格機関投資家のみを相手方として取得申込みの勧誘（取得勧誘）又は売付けの申込み若しくは買付けの申込みの勧誘(売付け勧誘等)を行う本有価証券には、適格機関投資家に譲渡する場合以外の譲渡が禁止される旨の制限が付されています。本有価証券は金融商品取引法第４条に基づく財務局に対する届出が行われておりません。なお、本告知はお客様によるご同意のもとに、電磁的に交付させていただいております。\n",
    "＜適格機関投資家用資料＞\n",
    "本資料は、適格機関投資家のお客さまのみを対象に作成されたものです。本資料における金融商品は適格機関投資家のお客さまのみがお取引可能であり、適格機関投資家以外のお客さまからのご注文等はお受けできませんので、ご注意ください。 商号等/ゴールドマン・サックス証券株式会社 金融商品取引業者　関東財務局長（金商）第６９号\n",
    "加入協会/　日本証券業協会、一般社団法人金融先物取引業協会、一般社団法人第二種金融商品取引業協会\n",
    "本書又はその添付資料に信用格付が記載されている場合、日本格付研究所（JCR）及び格付投資情報センター（R&I）による格付は、登録信用格付業者による格付（登録格付）です。その他の格付は登録格付である旨の記載がない場合は、無登録格付です。無登録格付を投資判断に利用する前に、「無登録格付に関する説明書」（http://www.goldmansachs.com/disclaimer/ratings.html）を十分にお読みください。\n",
    "If any credit ratings are contained in this material or any attachments, those that have been issued by Japan Credit Rating Agency, Ltd. (JCR) or Rating and Investment Information, Inc. (R&I) are credit ratings that have been issued by a credit rating agency registered in Japan (registered credit ratings). Other credit ratings are unregistered unless denoted as being registered. Before using unregistered credit ratings to make investment decisions, please carefully read \"Explanation Regarding Unregistered Credit Ratings\" (http://www.goldmansachs.com/disclaimer/ratings.html).\n",
    "Notice to Mexican Investors: Information contained herein is not meant for the general public in Mexico. The services or products provided by or through Goldman Sachs Mexico, Casa de Bolsa, S.A. de C.V. (GS Mexico) may not be offered or sold to the general public in Mexico. You have received information herein exclusively due to your existing relationship with a GS Mexico or any other Goldman Sachs business. The selection and engagement with any of the offered services or products through GS Mexico will be carried out directly by you at your own risk. Before acting to implement any chosen service or product provided by or through GS Mexico you should consider, at your sole discretion, whether it is suitable for your particular circumstances and, if necessary, seek professional advice. Information contained herein related to GS Mexico services or products, as well as any other information, shall not be considered as a product coming from research, nor it contains any recommendation to invest, not to invest, hold or sell any security and may not be supplied to the general public in Mexico.\n",
    "Notice to New Zealand Investors: When this document is disseminated in New Zealand by Goldman Sachs & Co. LLC (\"GSCO\") , Goldman Sachs International (\"GSI\"), Goldman Sachs Bank Europe SE (\"GSBE\"), Goldman Sachs (Asia) L.L.C. (\"GSALLC\") or Goldman Sachs (Singapore) Pte (\"GSSP\") (collectively the \"GS entities\"), this document, and any access to it, is intended only for a person that has first satisfied; the GS entities that the person is someone:\n",
    "(i) who is an investment business within the meaning of clause 37 of Schedule 1 of the Financial Markets Conduct Act 2013 (New Zealand) (the \"FMC Act\");\n",
    "(ii) who meets the investment activity criteria specified in clause 38 of Schedule 1 of the FMC Act;\n",
    "(iii) who is large within the meaning of clause 39 of Schedule 1 of the FMC Act; or\n",
    "(iv) is a government agency within the meaning of clause 40 of Schedule 1 of the FMC Act.\n",
    "No offer to acquire the interests is being made to you in this document. Any offer will only be made in circumstances where disclosure is not required under the Financial Markets Conducts Act 2013 or the Financial Markets Conduct Regulations 2014.\n",
    "Notice to Swiss Investors: This is marketing material for financial instruments or services. The information contained in this material is for general informational purposes only and does not constitute an offer, solicitation, invitation or recommendation to buy or sell any financial instruments or to provide any investment advice or service of any kind.\n",
    "THE INFORMATION CONTAINED IN THIS DOCUMENT DOES NOT CONSITUTE, AND IS NOT INTENDED TO CONSTITUTE, A PUBLIC OFFER OF SECURITIES IN THE UNITED ARAB EMIRATES IN ACCORDANCE WITH THE COMMERCIAL COMPANIES LAW (FEDERAL LAW NO. 2 OF 2015), ESCA BOARD OF DIRECTORS' DECISION NO. (9/R.M.) OF 2016, ESCA CHAIRMAN DECISION NO 3/R.M. OF 2017 CONCERNING PROMOTING AND INTRODUCING REGULATIONS OR OTHERWISE UNDER THE LAWS OF THE UNITED ARAB EMIRATES. ACCORDINGLY, THE INTERESTS IN THE SECURITIES MAY NOT BE OFFERED TO THE PUBLIC IN THE UAE (INCLUDING THE DUBAI INTERNATIONAL FINANCIAL CENTRE AND THE ABU DHABI GLOBAL MARKET). THIS DOCUMENT HAS NOT BEEN APPROVED BY, OR FILED WITH THE CENTRAL BANK OF THE UNITED ARAB EMIRATES, THE SECURITIES AND COMMODITIES AUTHORITY, THE DUBAI FINANCIAL SERVICES AUTHORITY, THE FINANCIAL SERVICES REGULATORY AUTHORITY OR ANY OTHER RELEVANT LICENSING AUTHORITIES IN THE UNITED ARAB EMIRATES. IF YOU DO NOT UNDERSTAND THE CONTENTS OF THIS DOCUMENT, YOU SHOULD CONSULT WITH A FINANCIAL ADVISOR. THIS DOCUMENT IS PROVIDED TO THE RECIPIENT ONLY AND SHOULD NOT BE PROVIDED TO OR RELIED ON BY ANY OTHER PERSON."
   ]
  },
  {
   "cell_type": "code",
   "execution_count": null,
   "id": "64d217eb",
   "metadata": {},
   "outputs": [],
   "source": []
  }
 ],
 "metadata": {
  "kernelspec": {
   "display_name": "Python 3 (ipykernel)",
   "language": "python",
   "name": "python3"
  },
  "language_info": {
   "codemirror_mode": {
    "name": "ipython",
    "version": 3
   },
   "file_extension": ".py",
   "mimetype": "text/x-python",
   "name": "python",
   "nbconvert_exporter": "python",
   "pygments_lexer": "ipython3",
   "version": "3.7.4"
  },
  "toc": {
   "base_numbering": 1,
   "nav_menu": {},
   "number_sections": true,
   "sideBar": true,
   "skip_h1_title": false,
   "title_cell": "Table of Contents",
   "title_sidebar": "Contents",
   "toc_cell": false,
   "toc_position": {},
   "toc_section_display": true,
   "toc_window_display": true
  }
 },
 "nbformat": 4,
 "nbformat_minor": 5
}

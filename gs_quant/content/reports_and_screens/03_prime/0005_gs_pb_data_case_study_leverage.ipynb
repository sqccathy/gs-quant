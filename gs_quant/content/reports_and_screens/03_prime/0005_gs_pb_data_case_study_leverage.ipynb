{
 "cells": [
  {
   "cell_type": "markdown",
   "metadata": {},
   "source": [
    "# The 2020 COVID Selloff and Hedge Fund Leverage"
   ]
  },
  {
   "cell_type": "markdown",
   "metadata": {},
   "source": [
    "From mid February 2020, news of the spread of COVID-19, coupled with a surge in the volatility of commodity prices, triggered a deep selloff in global equities.<br>\n",
    "The most acute phase started on February 24, as Italian authorities adopted restrictive measures to try and curb the diffusion of the infection. After plunging for the best part of three weeks, stock prices entered a more stable phase, recovering a small fraction of the previous losses.<br>\n",
    "In this case study we build on the PBFA dataset to analyse how hedge fund leverage changed as a result of the sudden shock inflicted on the financial system by the spread of COVID-19."
   ]
  },
  {
   "cell_type": "code",
   "execution_count": null,
   "metadata": {},
   "outputs": [],
   "source": [
    "# Import libraries\n",
    "import datetime\n",
    "from gs_quant.data import Dataset\n",
    "from gs_quant.session import GsSession, Environment\n",
    "import matplotlib.pyplot as plt"
   ]
  },
  {
   "cell_type": "code",
   "execution_count": null,
   "metadata": {},
   "outputs": [],
   "source": [
    "# Graphical formatting\n",
    "import matplotlib.dates as mdates\n",
    "import matplotlib.ticker as mtick\n",
    "year_month_formatter = mdates.DateFormatter(\"%Y-%m\") # four digits for year, two for month\n",
    "pct_formatter = mtick.PercentFormatter(xmax=1,decimals=0)"
   ]
  },
  {
   "cell_type": "code",
   "execution_count": null,
   "metadata": {},
   "outputs": [],
   "source": [
    "# Authentication\n",
    "client_id = # <insert client id here>\n",
    "client_secret = # <insert client secret here>\n",
    "GsSession.use(Environment.PROD, client_id, client_secret, ('read_product_data',))"
   ]
  },
  {
   "cell_type": "code",
   "execution_count": null,
   "metadata": {},
   "outputs": [],
   "source": [
    "# Fetch positioning data for 2020\n",
    "ds = Dataset('PBFA')\n",
    "data = ds.get_data(datetime.date(2020, 1, 1),datetime.date(2021, 1, 1))\n",
    "data = data.reset_index()\n",
    "data.date = data.date.apply(lambda x: x.date())"
   ]
  },
  {
   "cell_type": "markdown",
   "metadata": {},
   "source": [
    "After fetching the data from Marquee, we use some simple filters to focus on the broadest aggregates (region=global and sectors=all) and create dataframe which contain gross and net leverage figures by date and strategy."
   ]
  },
  {
   "cell_type": "code",
   "execution_count": null,
   "metadata": {
    "scrolled": false
   },
   "outputs": [],
   "source": [
    "# Gather gross and net leverage data\n",
    "glob_pos = data.loc[(data.region==\"Global\") & \\\n",
    "                    (data.sectorGICS1==\"All\"), ['date','clientStrategy','grossLeverage','netLeverage'] ]\n",
    "\n",
    "gross_lev= glob_pos.pivot(index=\"date\", columns=\"clientStrategy\", values=\"grossLeverage\").fillna(method='ffill')\n",
    "net_lev= glob_pos.pivot(index=\"date\", columns=\"clientStrategy\", values=\"netLeverage\").fillna(method='ffill')\n"
   ]
  },
  {
   "cell_type": "markdown",
   "metadata": {},
   "source": [
    "First, we plot gross and net leverage for the overall book.<br>\n",
    "As expected, from the end February both measures of leverage declined sharply. However, net leverage (black line) subsequently recovered and ended 2020 at around 85%, higher than the 70-75% level seen before the selloff.<br>\n",
    "In contrast, gross leverage (green) reached a trough at around 215% and remained below pre-COVID levels for most of 2020."
   ]
  },
  {
   "cell_type": "code",
   "execution_count": null,
   "metadata": {},
   "outputs": [],
   "source": [
    "# Plot book-level gross and net leverage\n",
    "fig, ax = plt.subplots(figsize=(10, 6))\n",
    "ax2 = ax.twinx()\n",
    "ax.plot(gross_lev.index, gross_lev['All'], 'g-',label='Gross')\n",
    "ax2.plot(net_lev.index, net_lev['All'], color='black',linestyle='solid',label='Net')\n",
    "ax.set_title('Gross vs. Net Leverage, Prime Book')\n",
    "ax.set_xlabel('Time')\n",
    "ax.set_ylabel('Gross Leverage', color='green')\n",
    "ax2.set_ylabel('Net Leverage', color='black')\n",
    "ax.xaxis.set_major_locator(mdates.MonthLocator(interval=3))\n",
    "ax.xaxis.set_major_formatter(year_month_formatter)\n",
    "ax.yaxis.set_major_formatter(pct_formatter)\n",
    "ax2.yaxis.set_major_formatter(pct_formatter)\n",
    "fig.autofmt_xdate()\n",
    "ax.legend(loc='center left')\n",
    "ax2.legend(loc='center right')"
   ]
  },
  {
   "cell_type": "markdown",
   "metadata": {},
   "source": [
    "We can also use the data to track leverage for a specific category of hedge fund strategies, i.e. fundamental long-short\n",
    "The chart suggests that the evolution of gross leverage for fundamental long-short strategies (black line) was similar to that of the overall book (green line). If anything, fundamental managers seem to have returned to the pre-COVID level of risk exposure even faster than other types of investor.<br>\n",
    "Leverage is typically lower for fundamental strategies in our book, compared to other hedge fund categories, due to the concentrated nature of their typical portfolios."
   ]
  },
  {
   "cell_type": "code",
   "execution_count": null,
   "metadata": {},
   "outputs": [],
   "source": [
    "# Plot gross leverage of fundamental L/S managers\n",
    "fig, ax = plt.subplots(figsize=(10, 6))\n",
    "ax2 = ax.twinx()\n",
    "ax.plot(gross_lev.index, gross_lev['All'], 'g-',label='Prime Book')\n",
    "ax2.plot(gross_lev.index, gross_lev['Fundamental L/S v2'], color='black',label='Fundamental L/S')\n",
    "ax.set_title('Gross Leverage: Prime Book vs. Fundamental L/S')\n",
    "ax.set_xlabel('Time')\n",
    "ax.set_ylabel('Gross Leverage', color='green')\n",
    "ax2.set_ylabel('Gross Leverage', color='black')\n",
    "ax.xaxis.set_major_locator(mdates.MonthLocator(interval=3))\n",
    "ax.xaxis.set_major_formatter(year_month_formatter)\n",
    "ax.yaxis.set_major_formatter(pct_formatter)\n",
    "ax2.yaxis.set_major_formatter(pct_formatter)\n",
    "fig.autofmt_xdate()\n",
    "ax.legend(loc='center right')\n",
    "ax2.legend(loc='lower right')"
   ]
  },
  {
   "cell_type": "markdown",
   "metadata": {},
   "source": [
    "Within the fundamental category, we can drill down further into the numbers by considering strategies with a regional focus\n",
    "Managers within a European and an Asia-focused mandate saw their leverage decline earlier than US-focused manager – a result that is intuitive given the staggered geographic spread of COVID.<br>\n",
    "After reaching very similar lows in gross leverage (slightly above 150%), US-focused managers (blue line) re-grossed more cautiously than their Asia and Europe-focused counterparts (green and red line, respectively)."
   ]
  },
  {
   "cell_type": "code",
   "execution_count": null,
   "metadata": {},
   "outputs": [],
   "source": [
    "# Plot gross leverage of regionally focused fundamental L/S managers\n",
    "fig, ax = plt.subplots(figsize=(10, 6))\n",
    "ax.plot(gross_lev.index, gross_lev['Asia-Focused Fundamental L/S v2'], color='green',label='Asia-Focused')\n",
    "ax.plot(gross_lev.index, gross_lev['Europe-Focused Fundamental L/S v2'], color='red',label='Europe-Focused')\n",
    "ax.plot(gross_lev.index, gross_lev['US-Focused Fundamental L/S v2'], 'blue',label='US-Focused')\n",
    "ax.set_title('Gross Leverage: Regionally Focused Fundamental L/S Strategies')\n",
    "ax.set_xlabel('Time')\n",
    "ax.set_ylabel('Gross Leverage', color='black')\n",
    "ax.xaxis.set_major_locator(mdates.MonthLocator(interval=3))\n",
    "ax.xaxis.set_major_formatter(year_month_formatter)\n",
    "ax.yaxis.set_major_formatter(pct_formatter)\n",
    "fig.autofmt_xdate()\n",
    "ax.legend(loc='lower right')\n"
   ]
  },
  {
   "cell_type": "markdown",
   "metadata": {},
   "source": [
    "## Disclaimers:\n",
    "Indicative Terms/Pricing Levels: This material may contain indicative terms only, including but not limited to pricing levels. There is no representation that any transaction can or could have been effected at such terms or prices. Proposed terms and conditions are for discussion purposes only. Finalized terms and conditions are subject to further discussion and negotiation.\n",
    "www.goldmansachs.com/disclaimer/sales-and-trading-invest-rec-disclosures.html If you are not accessing this material via Marquee ContentStream, a list of the author's investment recommendations disseminated during the preceding 12 months and the proportion of the author's recommendations that are 'buy', 'hold', 'sell' or other over the previous 12 months is available by logging into Marquee ContentStream using the link below. Alternatively, if you do not have access to Marquee ContentStream, please contact your usual GS representative who will be able to provide this information to you.\n",
    "Please refer to https://marquee.gs.com/studio/ for price information of corporate equity securities.\n",
    "Notice to Australian Investors: When this document is disseminated in Australia by Goldman Sachs & Co. LLC (\"GSCO\"), Goldman Sachs International (\"GSI\"), Goldman Sachs Bank Europe SE (\"GSBE\"), Goldman Sachs (Asia) L.L.C. (\"GSALLC\"), or Goldman Sachs (Singapore) Pte (\"GSSP\") (collectively the \"GS entities\"), this document, and any access to it, is intended only for a person that has first satisfied the GS entities that:\n",
    "• the person is a Sophisticated or Professional Investor for the purposes of section 708 of the Corporations Act of Australia; and\n",
    "• the person is a wholesale client for the purpose of section 761G of the Corporations Act of Australia.\n",
    "To the extent that the GS entities are providing a financial service in Australia, the GS entities are each exempt from the requirement to hold an Australian financial services licence for the financial services they provide in Australia. Each of the GS entities are regulated by a foreign regulator under foreign laws which differ from Australian laws, specifically:\n",
    "• GSCO is regulated by the US Securities and Exchange Commission under US laws;\n",
    "• GSI is authorised by the Prudential Regulation Authority and regulated by the Financial Conduct Authority and the Prudential Regulation Authority, under UK laws;\n",
    "• GSBE is subject to direct prudential supervision by the European Central Bank and in other respects is supervised by the German Federal Financial Supervisory Authority (Bundesanstalt für Finanzdienstleistungsaufischt, BaFin) and Deutsche Bundesbank;\n",
    "• GSALLC is regulated by the Hong Kong Securities and Futures Commission under Hong Kong laws; and\n",
    "• GSSP is regulated by the Monetary Authority of Singapore under Singapore laws.\n",
    "Notice to Brazilian Investors\n",
    "Marquee is not meant for the general public in Brazil. The services or products provided by or through Marquee, at any time, may not be offered or sold to the general public in Brazil. You have received a password granting access to Marquee exclusively due to your existing relationship with a GS business located in Brazil. The selection and engagement with any of the offered services or products through Marquee, at any time, will be carried out directly by you. Before acting to implement any chosen service or products, provided by or through Marquee you should consider, at your sole discretion, whether it is suitable for your particular circumstances and, if necessary, seek professional advice. Any steps necessary in order to implement the chosen service or product, including but not limited to remittance of funds, shall be carried out at your discretion. Accordingly, such services and products have not been and will not be publicly issued, placed, distributed, offered or negotiated in the Brazilian capital markets and, as a result, they have not been and will not be registered with the Brazilian Securities and Exchange Commission (Comissão de Valores Mobiliários), nor have they been submitted to the foregoing agency for approval. Documents relating to such services or products, as well as the information contained therein, may not be supplied to the general public in Brazil, as the offering of such services or products is not a public offering in Brazil, nor used in connection with any offer for subscription or sale of securities to the general public in Brazil.\n",
    "The offer of any securities mentioned in this message may not be made to the general public in Brazil. Accordingly, any such securities have not been nor will they be registered with the Brazilian Securities and Exchange Commission (Comissão de Valores Mobiliários) nor has any offer been submitted to the foregoing agency for approval. Documents relating to the offer, as well as the information contained therein, may not be supplied to the public in Brazil, as the offer is not a public offering of securities in Brazil. These terms will apply on every access to Marquee.\n",
    "Ouvidoria Goldman Sachs Brasil: 0800 727 5764 e/ou ouvidoriagoldmansachs@gs.com\n",
    "Horário de funcionamento: segunda-feira à sexta-feira (exceto feriados), das 9hs às 18hs.\n",
    "Ombudsman Goldman Sachs Brazil: 0800 727 5764 and / or ouvidoriagoldmansachs@gs.com\n",
    "Available Weekdays (except holidays), from 9 am to 6 pm.\n",
    "Note to Investors in Israel: GS is not licensed to provide investment advice or investment management services under Israeli law.\n",
    "Notice to Investors in Japan\n",
    "Marquee is made available in Japan by Goldman Sachs Japan Co., Ltd.\n",
    "本書は情報の提供を目的としております。また、売却・購入が違法となるような法域での有価証券その他の売却若しくは購入を勧めるものでもありません。ゴールドマン・サックスは本書内の取引又はストラクチャーの勧誘を行うものではございません。これらの取引又はストラクチャーは、社内及び法規制等の承認等次第で実際にはご提供できない場合がございます。\n",
    "<適格機関投資家限定　転売制限>\n",
    "ゴールドマン・サックス証券株式会社が適格機関投資家のみを相手方として取得申込みの勧誘（取得勧誘）又は売付けの申込み若しくは買付けの申込みの勧誘(売付け勧誘等)を行う本有価証券には、適格機関投資家に譲渡する場合以外の譲渡が禁止される旨の制限が付されています。本有価証券は金融商品取引法第４条に基づく財務局に対する届出が行われておりません。なお、本告知はお客様によるご同意のもとに、電磁的に交付させていただいております。\n",
    "＜適格機関投資家用資料＞\n",
    "本資料は、適格機関投資家のお客さまのみを対象に作成されたものです。本資料における金融商品は適格機関投資家のお客さまのみがお取引可能であり、適格機関投資家以外のお客さまからのご注文等はお受けできませんので、ご注意ください。 商号等/ゴールドマン・サックス証券株式会社 金融商品取引業者　関東財務局長（金商）第６９号\n",
    "加入協会/　日本証券業協会、一般社団法人金融先物取引業協会、一般社団法人第二種金融商品取引業協会\n",
    "本書又はその添付資料に信用格付が記載されている場合、日本格付研究所（JCR）及び格付投資情報センター（R&I）による格付は、登録信用格付業者による格付（登録格付）です。その他の格付は登録格付である旨の記載がない場合は、無登録格付です。無登録格付を投資判断に利用する前に、「無登録格付に関する説明書」（http://www.goldmansachs.com/disclaimer/ratings.html）を十分にお読みください。\n",
    "If any credit ratings are contained in this material or any attachments, those that have been issued by Japan Credit Rating Agency, Ltd. (JCR) or Rating and Investment Information, Inc. (R&I) are credit ratings that have been issued by a credit rating agency registered in Japan (registered credit ratings). Other credit ratings are unregistered unless denoted as being registered. Before using unregistered credit ratings to make investment decisions, please carefully read \"Explanation Regarding Unregistered Credit Ratings\" (http://www.goldmansachs.com/disclaimer/ratings.html).\n",
    "Notice to Mexican Investors: Information contained herein is not meant for the general public in Mexico. The services or products provided by or through Goldman Sachs Mexico, Casa de Bolsa, S.A. de C.V. (GS Mexico) may not be offered or sold to the general public in Mexico. You have received information herein exclusively due to your existing relationship with a GS Mexico or any other Goldman Sachs business. The selection and engagement with any of the offered services or products through GS Mexico will be carried out directly by you at your own risk. Before acting to implement any chosen service or product provided by or through GS Mexico you should consider, at your sole discretion, whether it is suitable for your particular circumstances and, if necessary, seek professional advice. Information contained herein related to GS Mexico services or products, as well as any other information, shall not be considered as a product coming from research, nor it contains any recommendation to invest, not to invest, hold or sell any security and may not be supplied to the general public in Mexico.\n",
    "Notice to New Zealand Investors: When this document is disseminated in New Zealand by Goldman Sachs & Co. LLC (\"GSCO\") , Goldman Sachs International (\"GSI\"), Goldman Sachs Bank Europe SE (\"GSBE\"), Goldman Sachs (Asia) L.L.C. (\"GSALLC\") or Goldman Sachs (Singapore) Pte (\"GSSP\") (collectively the \"GS entities\"), this document, and any access to it, is intended only for a person that has first satisfied; the GS entities that the person is someone:\n",
    "(i) who is an investment business within the meaning of clause 37 of Schedule 1 of the Financial Markets Conduct Act 2013 (New Zealand) (the \"FMC Act\");\n",
    "(ii) who meets the investment activity criteria specified in clause 38 of Schedule 1 of the FMC Act;\n",
    "(iii) who is large within the meaning of clause 39 of Schedule 1 of the FMC Act; or\n",
    "(iv) is a government agency within the meaning of clause 40 of Schedule 1 of the FMC Act.\n",
    "No offer to acquire the interests is being made to you in this document. Any offer will only be made in circumstances where disclosure is not required under the Financial Markets Conducts Act 2013 or the Financial Markets Conduct Regulations 2014.\n",
    "Notice to Swiss Investors: This is marketing material for financial instruments or services. The information contained in this material is for general informational purposes only and does not constitute an offer, solicitation, invitation or recommendation to buy or sell any financial instruments or to provide any investment advice or service of any kind.\n",
    "THE INFORMATION CONTAINED IN THIS DOCUMENT DOES NOT CONSITUTE, AND IS NOT INTENDED TO CONSTITUTE, A PUBLIC OFFER OF SECURITIES IN THE UNITED ARAB EMIRATES IN ACCORDANCE WITH THE COMMERCIAL COMPANIES LAW (FEDERAL LAW NO. 2 OF 2015), ESCA BOARD OF DIRECTORS' DECISION NO. (9/R.M.) OF 2016, ESCA CHAIRMAN DECISION NO 3/R.M. OF 2017 CONCERNING PROMOTING AND INTRODUCING REGULATIONS OR OTHERWISE UNDER THE LAWS OF THE UNITED ARAB EMIRATES. ACCORDINGLY, THE INTERESTS IN THE SECURITIES MAY NOT BE OFFERED TO THE PUBLIC IN THE UAE (INCLUDING THE DUBAI INTERNATIONAL FINANCIAL CENTRE AND THE ABU DHABI GLOBAL MARKET). THIS DOCUMENT HAS NOT BEEN APPROVED BY, OR FILED WITH THE CENTRAL BANK OF THE UNITED ARAB EMIRATES, THE SECURITIES AND COMMODITIES AUTHORITY, THE DUBAI FINANCIAL SERVICES AUTHORITY, THE FINANCIAL SERVICES REGULATORY AUTHORITY OR ANY OTHER RELEVANT LICENSING AUTHORITIES IN THE UNITED ARAB EMIRATES. IF YOU DO NOT UNDERSTAND THE CONTENTS OF THIS DOCUMENT, YOU SHOULD CONSULT WITH A FINANCIAL ADVISOR. THIS DOCUMENT IS PROVIDED TO THE RECIPIENT ONLY AND SHOULD NOT BE PROVIDED TO OR RELIED ON BY ANY OTHER PERSON."
   ]
  },
  {
   "cell_type": "code",
   "execution_count": null,
   "metadata": {},
   "outputs": [],
   "source": []
  }
 ],
 "metadata": {
  "kernelspec": {
   "display_name": "Python 3",
   "language": "python",
   "name": "python3"
  },
  "language_info": {
   "codemirror_mode": {
    "name": "ipython",
    "version": 3
   },
   "file_extension": ".py",
   "mimetype": "text/x-python",
   "name": "python",
   "nbconvert_exporter": "python",
   "pygments_lexer": "ipython3",
   "version": "3.7.3"
  }
 },
 "nbformat": 4,
 "nbformat_minor": 5
}

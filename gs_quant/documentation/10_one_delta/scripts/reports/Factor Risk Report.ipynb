{
 "cells": [
  {
   "cell_type": "markdown",
   "metadata": {
    "collapsed": true,
    "pycharm": {
     "name": "#%% md\n"
    }
   },
   "source": [
    "# Factor Risk Reports\n",
    "\n",
    "Factor risk reports run historical factor risk analyses for your portfolio or basket over a specified date range by leveraging a factor risk model of your choice.\n",
    "\n",
    "## Step 1: Authenticate and Initialize Your Session\n",
    "\n",
    "First you will import the necessary modules and add your client id and client secret."
   ]
  },
  {
   "cell_type": "code",
   "execution_count": null,
   "metadata": {
    "pycharm": {
     "name": "#%%\n"
    }
   },
   "outputs": [],
   "source": [
    "import datetime as dt\n",
    "from time import sleep\n",
    "\n",
    "import pandas as pd\n",
    "\n",
    "from gs_quant.api.gs.risk_models import GsRiskModelApi\n",
    "from gs_quant.markets.report import FactorRiskReport\n",
    "from gs_quant.models.risk_model import FactorRiskModel\n",
    "from gs_quant.session import GsSession, Environment\n",
    "from gs_quant.markets.securities import SecurityMaster, AssetIdentifier\n",
    "\n",
    "client = None\n",
    "secret = None\n",
    "scopes = None\n",
    "\n",
    "## External users must fill in their client ID and secret below and comment out the line below\n",
    "\n",
    "#client = 'ENTER CLIENT ID'\n",
    "#secret = 'ENTER CLIENT SECRET'\n",
    "#scopes = ('read_product_data read_financial_data modify_financial_data run_analytics',)\n",
    "\n",
    "GsSession.use(\n",
    "    Environment.PROD,\n",
    "    client_id=client,\n",
    "    client_secret=secret,\n",
    "    scopes=scopes\n",
    ")\n",
    "\n",
    "print('GS Session initialized.')\n"
   ]
  },
  {
   "cell_type": "markdown",
   "metadata": {},
   "source": [
    "## Step 2: Create a New Factor Risk Report\n",
    "\n",
    "#### Already have a factor risk report?\n",
    "\n",
    "<i>If you want to skip creating a new report and continue this tutorial with an existing factor risk report, run the following and skip to Step 3:</i>"
   ]
  },
  {
   "cell_type": "code",
   "execution_count": null,
   "metadata": {
    "pycharm": {
     "name": "#%%\n"
    }
   },
   "outputs": [],
   "source": [
    "risk_report_id = 'ENTER FACTOR RISK REPORT ID'\n",
    "\n",
    "risk_report = FactorRiskReport.get(risk_report_id)"
   ]
  },
  {
   "cell_type": "markdown",
   "metadata": {},
   "source": [
    "When creating a factor risk report, you must specify the risk model you would like to use.\n",
    "\n",
    "\n",
    "If you would like to see all available risk model IDs to choose from, run the following:"
   ]
  },
  {
   "cell_type": "code",
   "execution_count": null,
   "metadata": {
    "pycharm": {
     "name": "#%%\n"
    }
   },
   "outputs": [],
   "source": [
    "risk_models = FactorRiskModel.get_many()\n",
    "for risk_model in risk_models:\n",
    "    print(f'{risk_model.id}\\n')"
   ]
  },
  {
   "cell_type": "markdown",
   "metadata": {},
   "source": [
    "In this tutorial, we'll create a factor risk report leveraging the Barra USSLOW Long model. If you would like to calculate\n",
    "risk in relation to a benchmark, you can add an index, basket, or ETF to your `FactorRiskReport` object:"
   ]
  },
  {
   "cell_type": "code",
   "execution_count": null,
   "metadata": {
    "pycharm": {
     "name": "#%%\n"
    }
   },
   "outputs": [],
   "source": [
    "entity_id = 'ENTER PORTFOLIO OR BASKET ID'\n",
    "risk_model_id = 'BARRA_USSLOWL'\n",
    "\n",
    "benchmark = SecurityMaster.get_asset(id_value='SPX', id_type=AssetIdentifier.BLOOMBERG_ID)\n",
    "\n",
    "risk_report = FactorRiskReport(\n",
    "    risk_model_id=risk_model_id,\n",
    "    fx_hedged=True,\n",
    "    benchmark_id=benchmark.get_marquee_id()\n",
    ")\n",
    "\n",
    "risk_report.set_position_source(entity_id)\n",
    "risk_report.save()\n",
    "\n",
    "print(f'A new factor risk report for entity \"{entity_id}\" has been made with ID \"{risk_report.id}\".')"
   ]
  },
  {
   "cell_type": "markdown",
   "metadata": {},
   "source": [
    "## Step 3: Schedule the Report\n",
    "\n",
    "When scheduling reports, you have two options:\n",
    "- Backcast the report: Take the earliest date with positions in the portfolio / basket and run the report on the positions held then with a start date before the earliest position date and an end date\n",
    " of the earliest position date\n",
    "- Do not backcast the report: Set the start date as a date that has positions in the portfolio or basket and an end date after that (best practice is to set it to T-1). In this case the\n",
    " report will run on positions held as of each day in the date range\n",
    "\n",
    "In this case, let's try scheduling the report without backcasting:"
   ]
  },
  {
   "cell_type": "code",
   "execution_count": null,
   "metadata": {
    "pycharm": {
     "name": "#%%\n"
    }
   },
   "outputs": [],
   "source": [
    "start_date = dt.date(2021, 1, 4)\n",
    "end_date = dt.date(2021, 8, 4)\n",
    "\n",
    "risk_report.schedule(\n",
    "    start_date=start_date,\n",
    "    end_date=end_date,\n",
    "    backcast=False\n",
    ")\n",
    "\n",
    "print(f'Report \"{risk_report.id}\" has been scheduled.')"
   ]
  },
  {
   "cell_type": "markdown",
   "metadata": {},
   "source": [
    "## Alternative Step 3: Run the Report\n",
    "\n",
    "Depending on the size of your portfolio and the length of the schedule range, it usually takes anywhere from a couple seconds to a couple minutes for your report to finish executing.\n",
    "Only after that can you successfully pull the results from that report. If you would rather run the report and pull the results immediately after they are ready, you can leverage the `run`\n",
    "function.\n",
    "\n",
    "You can run a report synchronously or asynchronously.\n",
    "- Synchronous: the Python script will stall at the `run` function line and wait for the report to finish. The `run` function will then return a dataframe with the report results\n",
    "- Asynchronously: the Python script will not stall at the `run` function line. The `run` function will return a `ReportJobFuture` object that will contain the report results when they are ready.\n",
    "\n",
    "In this example, let's run the report asynchronously and wait for the results:"
   ]
  },
  {
   "cell_type": "code",
   "execution_count": null,
   "metadata": {
    "pycharm": {
     "name": "#%%\n"
    }
   },
   "outputs": [],
   "source": [
    "start_date = dt.date(2021, 1, 4)\n",
    "end_date = dt.date(2021, 8, 4)\n",
    "\n",
    "report_result_future = risk_report.run(\n",
    "    start_date=start_date,\n",
    "    end_date=end_date,\n",
    "    backcast=False,\n",
    "    is_async=True\n",
    ")\n",
    "\n",
    "while not report_result_future.done():\n",
    "    print('Waiting for report results...')\n",
    "    sleep(5)\n",
    "\n",
    "print('\\nReport results done! Here they are...')\n",
    "print(report_result_future.result())"
   ]
  },
  {
   "cell_type": "markdown",
   "metadata": {},
   "source": [
    "## Step 4: Pull Report Results\n",
    "\n",
    "Now that we have our completed factor risk report, we can leverage the unique functionalities of the `FactorRiskReport` class to pull attribution and risk data. In this example, let's pull historical data on factor, specific, and total PnL:"
   ]
  },
  {
   "cell_type": "code",
   "execution_count": null,
   "metadata": {
    "pycharm": {
     "name": "#%%\n"
    }
   },
   "outputs": [],
   "source": [
    "pnl = risk_report.get_factor_pnl(\n",
    "    factor_name=['Factor', 'Specific', 'Total'],\n",
    "    start_date=start_date,\n",
    "    end_date=end_date\n",
    ")\n",
    "pnl.set_index('Date', inplace=True)\n",
    "pnl.index = pd.to_datetime(pnl.index)\n",
    "\n",
    "pnl.cumsum().plot(title='Risk Attribution Breakdown')"
   ]
  },
  {
   "cell_type": "markdown",
   "metadata": {},
   "source": [
    "Now let's pull the breakdown of proportion of risk among the different factor types over time:"
   ]
  },
  {
   "cell_type": "code",
   "execution_count": null,
   "metadata": {
    "pycharm": {
     "name": "#%%\n"
    }
   },
   "outputs": [],
   "source": [
    "prop_of_risk = risk_report.get_factor_proportion_of_risk(\n",
    "    factor_names=['Market', 'Style', 'Industry', 'Country'],\n",
    "    start_date=start_date,\n",
    "    end_date=end_date\n",
    ")\n",
    "prop_of_risk.set_index('Date', inplace=True)\n",
    "prop_of_risk.index = pd.to_datetime(prop_of_risk.index)\n",
    "\n",
    "prop_of_risk.plot(title='Factor Proportion of Risk Breakdown')"
   ]
  },
  {
   "cell_type": "markdown",
   "metadata": {},
   "source": [
    "### Quick Tip!\n",
    "If you would like to pull all factor risk data for a list of different factors, you can use the `get_results` function:"
   ]
  },
  {
   "cell_type": "code",
   "execution_count": null,
   "metadata": {
    "pycharm": {
     "name": "#%%\n"
    }
   },
   "outputs": [],
   "source": [
    "factor_and_total_results = risk_report.get_results(factors=['Factor', 'Specific'], start_date=dt.date(2020, 1, 1), end_date=dt.date(2021, 1, 1))\n",
    "print(factor_and_total_results)"
   ]
  },
  {
   "cell_type": "markdown",
   "metadata": {},
   "source": [
    "### You're all set; Congrats!\n",
    "\n",
    "*Other questions? Reach out to the [Portfolio Analytics team](mailto:gs-marquee-analytics-support@gs.com)!*\n"
   ]
  }
 ],
 "metadata": {
  "kernelspec": {
   "display_name": "Python 3",
   "language": "python",
   "name": "python3"
  },
  "language_info": {
   "codemirror_mode": {
    "name": "ipython",
    "version": 3
   },
   "file_extension": ".py",
   "mimetype": "text/x-python",
   "name": "python",
   "nbconvert_exporter": "python",
   "pygments_lexer": "ipython3",
   "version": "3.7.4"
  }
 },
 "nbformat": 4,
 "nbformat_minor": 1
}
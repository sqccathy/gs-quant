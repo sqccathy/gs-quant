{
 "cells": [
  {
   "cell_type": "markdown",
   "metadata": {
    "collapsed": true,
    "pycharm": {
     "name": "#%% md\n"
    }
   },
   "source": [
    "# Pull Portfolio Factor Attribution Data with GS Quant\n",
    "\n",
    "## Authenticate and Initialize Your Session\n",
    "\n",
    "First you will import the necessary modules and add your client id and client secret."
   ]
  },
  {
   "cell_type": "code",
   "execution_count": null,
   "outputs": [],
   "source": [
    "\n",
    "import pandas as pd\n",
    "from IPython.display import display\n",
    "\n",
    "from gs_quant.markets.portfolio_manager import PortfolioManager\n",
    "from gs_quant.markets.report import FactorRiskViewsMode, FactorRiskUnit, FactorRiskTableMode\n",
    "from gs_quant.markets.securities import SecurityMaster, AssetIdentifier\n",
    "from gs_quant.session import GsSession, Environment\n",
    "\n",
    "client = None\n",
    "secret = None\n",
    "\n",
    "## External users must fill in their client ID and secret below and comment out the line below\n",
    "\n",
    "#client = 'ENTER CLIENT ID'\n",
    "#secret = 'ENTER CLIENT SECRET'\n",
    "\n",
    "GsSession.use(\n",
    "    Environment.PROD,\n",
    "    client_id=client,\n",
    "    client_secret=secret\n",
    ")\n",
    "\n",
    "print('GS Session initialized.')"
   ],
   "metadata": {
    "collapsed": false,
    "pycharm": {
     "name": "#%%\n"
    }
   }
  },
  {
   "cell_type": "markdown",
   "source": [
    "## Get Portfolio Factor Risk Report"
   ],
   "metadata": {
    "collapsed": false
   }
  },
  {
   "cell_type": "code",
   "execution_count": null,
   "outputs": [],
   "source": [
    "risk_report = PortfolioManager('ENTER PORTFOLIO ID').get_factor_risk_report(risk_model_id='ENTER RISK MODEL ID',\n",
    "                                                                            benchmark_id=None)\n",
    "\n",
    "print(f'Factor risk report found with ID: {risk_report.id}')"
   ],
   "metadata": {
    "collapsed": false,
    "pycharm": {
     "name": "#%%\n"
    }
   }
  },
  {
   "cell_type": "markdown",
   "source": [
    "Want to query data for an active risk report? Leverage the `SecurityMaster` class to retrieve the benchmark identifier and\n",
    "pass it into the `get_factor_risk_report` function:"
   ],
   "metadata": {
    "collapsed": false
   }
  },
  {
   "cell_type": "code",
   "execution_count": null,
   "outputs": [],
   "source": [
    "benchmark = SecurityMaster.get_asset(id_value='SPX', id_type=AssetIdentifier.BLOOMBERG_ID)\n",
    "\n",
    "risk_report = PortfolioManager('ENTER PORTFOLIO ID').get_factor_risk_report(risk_model_id='ENTER RISK MODEL ID',\n",
    "                                                                            benchmark_id=benchmark.get_marquee_id())\n",
    "\n",
    "print(f'Factor risk report found with ID: {risk_report.id}')"
   ],
   "metadata": {
    "collapsed": false,
    "pycharm": {
     "name": "#%%\n"
    }
   }
  },
  {
   "cell_type": "markdown",
   "source": [
    "## Get Current Portfolio Attribution\n",
    "\n",
    "Once your risk report is scheduled as of the latest business day, you can view updated attribution broken down by factor category:"
   ],
   "metadata": {
    "collapsed": false
   }
  },
  {
   "cell_type": "code",
   "execution_count": null,
   "outputs": [],
   "source": [
    "attr_data = risk_report.get_view(\n",
    "  mode=FactorRiskViewsMode.Attribution,\n",
    "  start_date=risk_report.earliest_start_date,\n",
    "  end_date=risk_report.latest_end_date,\n",
    "  unit=FactorRiskUnit.Notional\n",
    ")\n",
    "category_table = attr_data.get('factorCategoriesTable')\n",
    "category_df = pd.DataFrame(category_table).filter(items=['name', 'pnl', 'minExposure', 'maxExposure', 'avgExposure'])\n",
    "\n",
    "display(category_df)"
   ],
   "metadata": {
    "collapsed": false,
    "pycharm": {
     "name": "#%%\n"
    }
   }
  },
  {
   "cell_type": "markdown",
   "source": [
    "It is also possible to get a similar table for all the factors in a factor category. In this case, let's drill down into the Style factors:"
   ],
   "metadata": {
    "collapsed": false
   }
  },
  {
   "cell_type": "code",
   "execution_count": null,
   "outputs": [],
   "source": [
    "factor_tables = attr_data.get('factorCategoryTables')\n",
    "factor_tables = [f for f in factor_tables if f.get('factorCategory') == 'Style']\n",
    "factor_df = pd.DataFrame(factor_tables[0].get('factors')).filter(items=['name', 'pnl', 'minExposure', 'maxExposure', 'avgExposure'])\n",
    "\n",
    "display(factor_df)"
   ],
   "metadata": {
    "collapsed": false,
    "pycharm": {
     "name": "#%%\n"
    }
   }
  },
  {
   "cell_type": "markdown",
   "source": [
    "You can also generate a table that shows you the factor PnL over a date range at the asset level. Let's see the factor PnL for each asset for the factors Country, Beta, and Earnings Quality:"
   ],
   "metadata": {
    "collapsed": false
   }
  },
  {
   "cell_type": "code",
   "execution_count": null,
   "outputs": [],
   "source": [
    "pnl_table = risk_report.get_table(\n",
    "    mode=FactorRiskTableMode.Pnl,\n",
    "    start_date=risk_report.earliest_start_date,\n",
    "    end_date=risk_report.latest_end_date,\n",
    "    factors=[\"Country\", \"Beta\", \"Earnings Quality\"]    # Skip passing in a value here to get a table with all model factors\n",
    ")\n",
    "\n",
    "display(pd.DataFrame(pnl_table))"
   ],
   "metadata": {
    "collapsed": false
   }
  },
  {
   "cell_type": "markdown",
   "source": [
    "## Historical Portfolio Factor Performance\n",
    "\n",
    "`get_factor_pnl` allows you to pull historical factor performance for a list of factors, as well as aggregations like factor, specific, and total risk:"
   ],
   "metadata": {
    "collapsed": false
   }
  },
  {
   "cell_type": "code",
   "execution_count": null,
   "outputs": [],
   "source": [
    "pnl = risk_report.get_factor_pnl(\n",
    "  factor_names=['Factor', 'Specific', 'Total','Market', 'Country', 'Industry', 'Style'],\n",
    "  start_date=risk_report.earliest_start_date,\n",
    "  end_date=risk_report.latest_end_date,\n",
    "  unit=FactorRiskUnit.Notional\n",
    ")\n",
    "pnl_overview = pnl.filter(items=['Date', 'Total']).set_index('date')\n",
    "\n",
    "pnl_overview.cumsum().plot(title='PnL')"
   ],
   "metadata": {
    "collapsed": false,
    "pycharm": {
     "name": "#%%\n"
    }
   }
  },
  {
   "cell_type": "markdown",
   "source": [
    "This makes it easy to break down PnL over time and how it was attributed to various systematic risk factors:"
   ],
   "metadata": {
    "collapsed": false
   }
  },
  {
   "cell_type": "code",
   "execution_count": null,
   "outputs": [],
   "source": [
    "pnl_overview = pnl.filter(items=['Date', 'Factor', 'Specific', 'Total']).set_index('Date')\n",
    "pnl_overview.cumsum().plot(title='PnL Overview')"
   ],
   "metadata": {
    "collapsed": false,
    "pycharm": {
     "name": "#%%\n"
    }
   }
  },
  {
   "cell_type": "markdown",
   "source": [
    "And dissect that further by factor attribution further by category..."
   ],
   "metadata": {
    "collapsed": false
   }
  },
  {
   "cell_type": "code",
   "execution_count": null,
   "outputs": [],
   "source": [
    "pnl_by_type = pnl.filter(items=['Date', 'Market', 'Country', 'Industry', 'Style', 'Specific']).set_index('Date')\n",
    "\n",
    "pnl_by_type.cumsum().plot(title='PnL by Factor Category')\n"
   ],
   "metadata": {
    "collapsed": false,
    "pycharm": {
     "name": "#%%\n"
    }
   }
  },
  {
   "cell_type": "markdown",
   "source": [
    "## Historical Factor Exposure\n",
    "\n",
    "For each day, it's possible to pull your portfolio's exposure to specific factors..."
   ],
   "metadata": {
    "collapsed": false
   }
  },
  {
   "cell_type": "code",
   "execution_count": null,
   "outputs": [],
   "source": [
    "category_exposures = risk_report.get_factor_exposure(\n",
    "  factor_names=['Market', 'Industry', 'Style'],\n",
    "  start_date=risk_report.earliest_start_date,\n",
    "  end_date=risk_report.latest_end_date,\n",
    "  unit=FactorRiskUnit.Notional\n",
    ").set_index('Date')\n",
    "\n",
    "category_exposures.plot(title='Exposures to Factor Categories')"
   ],
   "metadata": {
    "collapsed": false,
    "pycharm": {
     "name": "#%%\n"
    }
   }
  },
  {
   "cell_type": "markdown",
   "source": [
    "Or get the exposures to all factors in a given category:"
   ],
   "metadata": {
    "collapsed": false
   }
  },
  {
   "cell_type": "code",
   "execution_count": null,
   "outputs": [],
   "source": [
    "category_exposures = risk_report.get_factor_exposure(\n",
    "  factor_categories=['Style'],\n",
    "  start_date=risk_report.earliest_start_date,\n",
    "  end_date=risk_report.latest_end_date,\n",
    "  unit=FactorRiskUnit.Notional\n",
    ").set_index('Date')\n",
    "\n",
    "category_exposures.plot(title='Exposures to Style Factors')\n"
   ],
   "metadata": {
    "collapsed": false,
    "pycharm": {
     "name": "#%%\n"
    }
   }
  },
  {
   "cell_type": "markdown",
   "source": [
    "*Other questions? Reach out to the [Portfolio Analytics team](mailto:gs-marquee-analytics-support@gs.com)!*"
   ],
   "metadata": {
    "collapsed": false
   }
  }
 ],
 "metadata": {
  "kernelspec": {
   "display_name": "Python 3",
   "language": "python",
   "name": "python3"
  },
  "language_info": {
   "codemirror_mode": {
    "name": "ipython",
    "version": 2
   },
   "file_extension": ".py",
   "mimetype": "text/x-python",
   "name": "python",
   "nbconvert_exporter": "python",
   "pygments_lexer": "ipython2",
   "version": "2.7.6"
  }
 },
 "nbformat": 4,
 "nbformat_minor": 0
}
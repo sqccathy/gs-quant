{
 "cells": [
  {
   "cell_type": "markdown",
   "metadata": {
    "collapsed": true,
    "pycharm": {
     "name": "#%% md\n"
    }
   },
   "source": [
    "# Pull Marquee ESG Analytics with GS Quant\n",
    "\n",
    "Portfolio ESG Analytics are driven by the Goldman Sachs GIR SUSTAIN Headline Metrics dataset. Using data from third-party ESG data providers, the GIR SUSTAIN team has identified what it believes to be the most relevant Environmental & Social (E&S) exposures for a company’s sector and Governance (G) exposure relative to its region and the global SUSTAIN ESG universe. These metrics form the framework through which to evaluate corporate ESG engagement. We caution at the outset that this data should not be viewed as signalling 'good' or 'bad' ESG or overall performance. Instead, the framework highlights a company’s peer-relative performance on the key ESG metrics that the team believes to be the most relevant for that sector as a basis for further analysis.\n",
    "\n",
    "Please note that for companies with multiple share classes, SUSTAIN ESG data will only be provided for the primary share class. If other share classes are included in your portfolio, the ESG metrics will be represented as N/A and aggregate metrics will not include them."
   ]
  },
  {
   "cell_type": "markdown",
   "source": [
    "## Step 1: Authenticate and Initialize Your Session\n",
    "\n",
    "First you will import the necessary modules and add your client id and client secret."
   ],
   "metadata": {
    "collapsed": false
   }
  },
  {
   "cell_type": "code",
   "execution_count": null,
   "outputs": [],
   "source": [
    "import datetime as dt\n",
    "\n",
    "from gs_quant.api.gs.esg import ESGMeasure, ESGCard\n",
    "from gs_quant.markets.portfolio_manager import PortfolioManager\n",
    "from gs_quant.session import GsSession, Environment\n",
    "from IPython.display import display\n",
    "\n",
    "client = None\n",
    "secret = None\n",
    "scopes = None\n",
    "\n",
    "## External users must fill in their client ID and secret below and comment out the line below\n",
    "\n",
    "#client = 'ENTER CLIENT ID'\n",
    "#secret = 'ENTER CLIENT SECRET'\n",
    "\n",
    "GsSession.use(\n",
    "    Environment.PROD,\n",
    "    client_id=client,\n",
    "    client_secret=secret\n",
    ")"
   ],
   "metadata": {
    "collapsed": false,
    "pycharm": {
     "name": "#%%\n"
    }
   }
  },
  {
   "cell_type": "markdown",
   "source": [
    "## Step 2: Define Your Entity\n",
    "\n",
    "ESG can be pulled from any object that inherits from the `PositionedEntity` class, such as `PortfolioManager`, `Index` or `Basket`. In this example, we will get ESG data for a Marquee portfolio."
   ],
   "metadata": {
    "collapsed": false
   }
  },
  {
   "cell_type": "code",
   "execution_count": null,
   "outputs": [],
   "source": [
    "pm = PortfolioManager('ENTER PORTFOLIO ID')"
   ],
   "metadata": {
    "collapsed": false,
    "pycharm": {
     "name": "#%%\n"
    }
   }
  },
  {
   "cell_type": "markdown",
   "source": [
    "Now we will walk through some ESG analytics you can pull from your portfolio. For all of the following examples, if no date is provided, the results will be as of the last previous business day.\n",
    "\n",
    "## Get Portfolio's Weight Averaged ESG Percentile Values\n",
    "\n",
    "Easily pull your weighted average percentile values of your portfolio on a given day:"
   ],
   "metadata": {
    "collapsed": false
   }
  },
  {
   "cell_type": "code",
   "execution_count": null,
   "outputs": [],
   "source": [
    "print('Portfolio Summmary:')\n",
    "display(pm.get_esg_summary(pricing_date=dt.date(2021, 9, 1)))"
   ],
   "metadata": {
    "collapsed": false,
    "pycharm": {
     "name": "#%%\n"
    }
   }
  },
  {
   "cell_type": "markdown",
   "source": [
    "### Quintile Breakdown\n",
    "\n",
    "If you want to see what percent of your portfolio has an ESG percentile value between 0-20%, 20%-40%,\n",
    "and so on, it's possible to pull that information for your requested ESG measure:"
   ],
   "metadata": {
    "collapsed": false,
    "pycharm": {
     "name": "#%% md\n"
    }
   }
  },
  {
   "cell_type": "code",
   "execution_count": null,
   "outputs": [],
   "source": [
    "print('Quintile Breakdown:')\n",
    "display(pm.get_esg_quintiles(\n",
    "    measure=ESGMeasure.ES_PERCENTILE,\n",
    "    pricing_date=dt.date(2021, 9, 1)\n",
    "))"
   ],
   "metadata": {
    "collapsed": false,
    "pycharm": {
     "name": "#%%\n"
    }
   }
  },
  {
   "cell_type": "markdown",
   "source": [
    "### Breakdown by Region and Sector\n",
    "\n",
    "View your portfolio's weighted average ESG percentile value by GIR SUSTAIN subsector..."
   ],
   "metadata": {
    "collapsed": false
   }
  },
  {
   "cell_type": "code",
   "execution_count": null,
   "outputs": [],
   "source": [
    "print('Sector Breakdown:')\n",
    "display(pm.get_esg_by_sector(\n",
    "    measure=ESGMeasure.ES_PERCENTILE,\n",
    "    pricing_date=dt.date(2021, 9, 1)\n",
    "))"
   ],
   "metadata": {
    "collapsed": false,
    "pycharm": {
     "name": "#%%\n"
    }
   }
  },
  {
   "cell_type": "markdown",
   "source": [
    "### Breakdown by Region and Sector\n",
    "\n",
    "and by GIR SUSTAIN region:"
   ],
   "metadata": {
    "collapsed": false
   }
  },
  {
   "cell_type": "code",
   "execution_count": null,
   "outputs": [],
   "source": [
    "print('Region Breakdown:')\n",
    "display(pm.get_esg_by_region(\n",
    "    measure=ESGMeasure.ES_PERCENTILE,\n",
    "    pricing_date=dt.date(2021, 9, 1)\n",
    "))"
   ],
   "metadata": {
    "collapsed": false,
    "pycharm": {
     "name": "#%%\n"
    }
   }
  },
  {
   "cell_type": "markdown",
   "source": [
    "### Top Ten and Bottom Ten Ranked\n",
    "\n",
    "Get a list of your ten positions with the highest ESG percentile values..."
   ],
   "metadata": {
    "collapsed": false,
    "pycharm": {
     "name": "#%% md\n"
    }
   }
  },
  {
   "cell_type": "code",
   "execution_count": null,
   "outputs": [],
   "source": [
    "print(f'Top Ten Ranked:')\n",
    "display(pm.get_esg_top_ten(\n",
    "    measure=ESGMeasure.ES_PERCENTILE,\n",
    "    pricing_date=dt.date(2021, 9, 1)\n",
    "))"
   ],
   "metadata": {
    "collapsed": false,
    "pycharm": {
     "name": "#%%\n"
    }
   }
  },
  {
   "cell_type": "markdown",
   "source": [
    "and a list of your ten positions with the lowest ESG percentile values:"
   ],
   "metadata": {
    "collapsed": false,
    "pycharm": {
     "name": "#%% md\n"
    }
   }
  },
  {
   "cell_type": "code",
   "execution_count": null,
   "outputs": [],
   "source": [
    "print(f'Bottom Ten Ranked:')\n",
    "display(pm.get_esg_bottom_ten(\n",
    "    measure=ESGMeasure.ES_PERCENTILE,\n",
    "    pricing_date=dt.date(2021, 9, 1)\n",
    "))"
   ],
   "metadata": {
    "collapsed": false,
    "pycharm": {
     "name": "#%%\n"
    }
   }
  },
  {
   "cell_type": "markdown",
   "source": [
    "### Quick Tip!\n",
    "If you would like to pull data for multiple measures at once, you can leverage the `get_all_esg_data` function:"
   ],
   "metadata": {
    "collapsed": false
   }
  },
  {
   "cell_type": "code",
   "execution_count": null,
   "outputs": [],
   "source": [
    "aggregated_esg_results = pm.get_all_esg_data(\n",
    "    measures=[ESGMeasure.ES_PERCENTILE, ESGMeasure.G_PERCENTILE],\n",
    "    cards=[ESGCard.QUINTILES, ESGCard.MEASURES_BY_SECTOR],\n",
    "    pricing_date=dt.date(2021, 9, 1)\n",
    ")\n",
    "print(aggregated_esg_results)"
   ],
   "metadata": {
    "collapsed": false,
    "pycharm": {
     "name": "#%%\n"
    }
   }
  },
  {
   "cell_type": "markdown",
   "source": [
    "### You're all set, Congrats!"
   ],
   "metadata": {
    "collapsed": false
   }
  }
 ],
 "metadata": {
  "kernelspec": {
   "display_name": "Python 3",
   "language": "python",
   "name": "python3"
  },
  "language_info": {
   "codemirror_mode": {
    "name": "ipython",
    "version": 2
   },
   "file_extension": ".py",
   "mimetype": "text/x-python",
   "name": "python",
   "nbconvert_exporter": "python",
   "pygments_lexer": "ipython2",
   "version": "2.7.6"
  }
 },
 "nbformat": 4,
 "nbformat_minor": 0
}